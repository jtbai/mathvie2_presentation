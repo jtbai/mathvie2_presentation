{
 "cells": [
  {
   "cell_type": "markdown",
   "id": "b51a8bea",
   "metadata": {},
   "source": [
    "# Exemple 10.2\n",
    "## Calcul de la prime d'un produit sur deux têtes"
   ]
  },
  {
   "cell_type": "markdown",
   "id": "acaa8322",
   "metadata": {},
   "source": [
    "Un homme (x) de 55 ans et sa femme (y) de 50 ans ont acheté une police de rente différée. \n",
    "\n",
    "Si un des deux meurt dans les 10 premières années, un capital décès de 200 000 \\\\$ est payable au survivant à la fin de l'année. \n",
    "\n",
    "Si les deux survivent aux 10 années, ils obiennent une rente de 50 000 \\\\$ par année, payable mensuellement jusqu'a la mort d'un des deux conjoints, où le montant est réduit à 30 000 \\\\$ par année. Au moment du décès du dernier survivant, la rente cesse.\n",
    "\n",
    "Les primes pour se produits sont nivelées et sont payables mensuellement pour au plus 10 ans si seulement les deux sont vivants.\n",
    "\n",
    "\n",
    "Le taux d'intérêt effectif annuel est de 5\\% et la mortalité suit le Standard Select Survival Model pour les deux conjoints.\n",
    "1. La mortalité de (55) et (50) sont indépendantes.\n",
    "2. (55) et (50) sont *select* au moment de l'achat de la police."
   ]
  },
  {
   "cell_type": "markdown",
   "id": "46a05a35",
   "metadata": {},
   "source": [
    "### Préambule"
   ]
  },
  {
   "cell_type": "code",
   "execution_count": 1,
   "id": "d2bd40b5",
   "metadata": {},
   "outputs": [],
   "source": [
    "# Fonction pour créer un lien entre un age (clé) et une lx (valeur)\n",
    "\n",
    "generate_hashmap <- function(keys, values){\n",
    "    hashmap <- function(index){\n",
    "        key_index <- match(index, keys)\n",
    "        return (values[key_index])\n",
    "    }\n",
    "    return (Vectorize(hashmap))\n",
    "}"
   ]
  },
  {
   "cell_type": "code",
   "execution_count": 2,
   "id": "3a2537a6",
   "metadata": {},
   "outputs": [],
   "source": [
    "interpolate_death <- function(lives, ages, periodicity){\n",
    "    death_by_ages <- lives(tail(ages,-1))-lives(head(ages,-1))\n",
    "    death_by_month <- rep(death_by_ages , each=periodicity) / periodicity\n",
    "    return(death_by_month)\n",
    "}\n",
    "\n",
    "project_interpolated_lives <- function(lives_at_age1, interpolated_death){\n",
    "    cumulative_death_since_age1 <- cumsum(interpolated_death)\n",
    "    return(lives_at_age1+c(0,cumulative_death_since_age1))\n",
    "}\n"
   ]
  },
  {
   "cell_type": "code",
   "execution_count": 3,
   "id": "963a9bfb",
   "metadata": {},
   "outputs": [],
   "source": [
    "i = 0.05"
   ]
  },
  {
   "cell_type": "markdown",
   "id": "f71216ac",
   "metadata": {},
   "source": [
    "### 4 produits a évaluer\n",
    "\n",
    "#### Prime\n",
    "1. Une rente mensuelle immediate payable pendant 10 ans ou jusqu'au premier décès  \n",
    "\n",
    "#### Prestation\n",
    "2. Une assurance vie payable si le status vie conjointe termine avant 10 ans\n",
    "3. Une rente différée 10 ans sur 65:60 payable jusqu'au **premier** décès\n",
    "4. Une rente différée 10 ans sur 65:60 payable jusqu'au **dernier** décès\n"
   ]
  },
  {
   "cell_type": "markdown",
   "id": "588ecea7",
   "metadata": {},
   "source": [
    "### Développement"
   ]
  },
  {
   "cell_type": "markdown",
   "id": "63cf7d66",
   "metadata": {},
   "source": [
    "#### Produit #1 (Prime): Rente mensuelle immediate payable pendant 10 ans ou jusqu'au premier décès \n",
    "\n",
    "prime = P * E[rente]\n",
    "\n",
    "$$ \\begin{align}\n",
    "\\mathrm{E[rente]} &= \\frac{1}{12}\\big(\\sum^{10*12}_{t=0} v^{\\frac{t}{12}} \\,_{\\frac{t}{12}}p_{[55]:[50]}\\big) \\\\\n",
    "\\mathrm{Par \\; independance}\\\\\n",
    "\\mathrm{E[rente]} &= \\frac{1}{12}\\big(\\sum^{10*12}_{t=0} v^{\\frac{t}{12}} \\,_{\\frac{t}{12}}p_{[55]}\\,_{\\frac{t}{12}}p_{[50]}\\big) \\\\\n",
    "\\end{align}  \n",
    "$$"
   ]
  },
  {
   "cell_type": "code",
   "execution_count": 4,
   "id": "5fc0e074",
   "metadata": {},
   "outputs": [],
   "source": [
    "# Calcul des probabilité aux ages entiers - Données tirées de (Appendix D, table 1)\n",
    "\n",
    "age_x <- 55:65\n",
    "lx_select55_par_age <- c(97807.07,\n",
    "                         97640.4,\n",
    "                         97435.17,\n",
    "                         97195.56,\n",
    "                         96929.59,\n",
    "                         96634.14,\n",
    "                         96305.75,\n",
    "                         95940.6,\n",
    "                         95534.43,\n",
    "                         95082.53,\n",
    "                         94579.73)\n",
    "\n",
    "age_y <- 50:60\n",
    "lx_select50_par_age <- c(98552.51, \n",
    "                         98450.67, \n",
    "                         98326.19, \n",
    "                         98181.77, \n",
    "                         98022.38, \n",
    "                         97846.2, \n",
    "                         97651.21, \n",
    "                         97435.17, \n",
    "                         97195.56, \n",
    "                         96929.59, \n",
    "                         96634.14)\n",
    "\n",
    "lx <- generate_hashmap(age_x, lx_select55_par_age)\n",
    "ly <- generate_hashmap(age_y, lx_select50_par_age)"
   ]
  },
  {
   "cell_type": "code",
   "execution_count": 36,
   "id": "0fbf2051",
   "metadata": {},
   "outputs": [],
   "source": [
    "# Evaluation des probabilité interpolées mensuellement (via distribution uniforme des décès)\n",
    "# On suppose que les décès pour chacuns des groupes sélect-ultime sont uniformes,non pas les décès conjoints\n",
    "# C'est une approximation adéquate selon AMLCR\n",
    "\n",
    "m <- 12\n",
    "\n",
    "interpolated_lives_x <- project_interpolated_lives(lx(55), interpolate_death(lx, age_x, m))\n",
    "interpolated_lives_y <- project_interpolated_lives(ly(50), interpolate_death(ly, age_y, m))\n",
    "\n",
    "tp55 <- head(interpolated_lives_x, -1) / lx(55)\n",
    "tp50 <- head(interpolated_lives_y, -1) / ly(50)\n"
   ]
  },
  {
   "cell_type": "code",
   "execution_count": 37,
   "id": "2ecd5c68",
   "metadata": {},
   "outputs": [
    {
     "name": "stdout",
     "output_type": "stream",
     "text": [
      "réponse = P 7.7782"
     ]
    }
   ],
   "source": [
    "# Valeur de la rente\n",
    "\n",
    "# Index des pas des temps\n",
    "t_prime <- seq(0, 10*12-1)\n",
    "\n",
    "# Valeur actualisées\n",
    "v_prime <- (1+i)^-(t_prime/12)\n",
    "\n",
    "valeur_produit_1 <- sum(v_prime * tp55 * tp50)/12\n",
    "\n",
    "cat(\"réponse = P\", round(valeur_produit_1, 4))"
   ]
  },
  {
   "cell_type": "markdown",
   "id": "348e78cc",
   "metadata": {},
   "source": [
    "#### Produit #2: Capital décès en cas de décès d'un des membre du couple dans les 10 premières années\n",
    "\n",
    "Valeur = 200 000 * E[assurance]\n",
    "\n",
    "$$ \\begin{align}\n",
    "\\mathrm{E[assurance]} &= \\sum^{10-1}_{t=0} v^{t+1} \\,_t|q_{[55]:[50]} \\\\\n",
    "\\mathrm{E[assurance]} &= \\sum^{10-1}_{t=0} v^{t} (Pr[t < T_{xy} \\leq t+1]) \\\\\n",
    "\\mathrm{E[assurance]} &= \\sum^{10-1}_{t=0} v^{t} (Pr[T_{xy} > t] - Pr[T_{xy} > t+1]) \\\\\n",
    "\\mathrm{Par \\; independance}\\\\\n",
    "\\mathrm{E[assurance]} &= \\sum^{10-1}_{t=0} v^{t} (Pr[T_x > t]Pr[T_y>t]] - Pr[T_x > t+1]Pr[T_y > t+1]) \\\\\n",
    "\\mathrm{E[assurance]} &= \\sum^{10-1}_{t=0} v^{t} (\\,_tp_{[55]}\\,_tp_{[50]}-\\,_{t+1}p_{[55]}\\,_{t+1}p_{[50]}) \\\\\n",
    "\\end{align}  \n",
    "$$"
   ]
  },
  {
   "cell_type": "code",
   "execution_count": 72,
   "id": "f9b180a2",
   "metadata": {},
   "outputs": [
    {
     "data": {
      "text/html": [
       "11"
      ],
      "text/latex": [
       "11"
      ],
      "text/markdown": [
       "11"
      ],
      "text/plain": [
       "[1] 11"
      ]
     },
     "metadata": {},
     "output_type": "display_data"
    },
    {
     "name": "stdout",
     "output_type": "stream",
     "text": [
      "réponse =  7660"
     ]
    }
   ],
   "source": [
    "t_produit_2 = 1:10\n",
    "\n",
    "# Valeur actualisées\n",
    "v_produit_2 = (1+i)^-t_produit_2\n",
    "\n",
    "# Calcul des probabilité du survie indivuduelles \n",
    "tp55 = lx(age_x)/lx(55)\n",
    "tp50 = ly(age_y)/ly(50)\n",
    "\n",
    "t_barre_q_xy = (head(tp50, -1) * head(tp55, -1) - tail(tp55, -1) * tail(tp50, -1))\n",
    "\n",
    "esperance_assurance = sum(v_produit_2 * t_barre_q_xy)\n",
    "valeur_produit_2 = 200000 * round(esperance_assurance,4)\n",
    "\n",
    "cat(\"réponse = \", valeur_produit_2)"
   ]
  },
  {
   "cell_type": "markdown",
   "id": "07b561c5",
   "metadata": {},
   "source": [
    "#### Produit #3 et Produit #4: Rente immediate différée décroissante au premier décès\n",
    "\n",
    "##### Valeur à l'émission\n",
    "\n",
    "$$ \\begin{align}\n",
    "\\mathrm{Valeur\\;emission} &= v^{10} \\,_tp_{[50]}\\; \\,_tp_{[50]} \\mathrm{Valeur\\;prestations}\\\\\n",
    "\\end{align}\n",
    "$$\n",
    "\n",
    "\n",
    "##### Valeur au début des prestations de rente\n",
    "\n",
    "$$ \\begin{align}\n",
    "\\mathrm{Valeur\\;prestations} &= 30\\,000 \\;\\mathrm{E[rente]}^{(12)}_{\\overline{65:60}} + 20\\,000\\;\\mathrm{E[rente]}^{(12)}_{65:60}\\\\\n",
    "\\mathrm{Valeur\\;prestations} &= 30\\,000\\;(\\; \\mathrm{E[rente]}^{(12)}_{65}+\\mathrm{E[rente]}^{(12)}_{60}-\\mathrm{E[rente]}^{(12)}_{65:60}\\;) + 20\\,000\\;\\mathrm{E[rente]}^{(12)}_{65:60}\\\\\n",
    "\\mathrm{Valeur\\;prestations} &= 30\\,000\\;\\mathrm{E[rente]}^{(12)}_{65} + 30\\,000\\;\\mathrm{E[rente]}^{(12)}_{60} - 10\\,000\\; \\mathrm{E[rente]}^{(12)}_{65:60}\n",
    "\\end{align}\n",
    "$$\n"
   ]
  },
  {
   "cell_type": "code",
   "execution_count": 39,
   "id": "4d41958c",
   "metadata": {},
   "outputs": [],
   "source": [
    "# Calcul des probabilités aux âges entiers - Données tirées de (Appendix D, table 1)\n",
    "\n",
    "age_ultime <- 60:101\n",
    "lx_ultime_par_age <- c(96634.14,\n",
    "                       96305.75,\n",
    "                       95940.6,\n",
    "                       95534.43,\n",
    "                       95082.53,\n",
    "                       94579.73,\n",
    "                       94020.33,\n",
    "                       93398.05,\n",
    "                       92706.06,\n",
    "                       91936.88,\n",
    "                       91082.43,\n",
    "                       90133.96,\n",
    "                       89082.09,\n",
    "                       87916.84,\n",
    "                       86627.64,\n",
    "                       85203.46,\n",
    "                       83632.89,\n",
    "                       81904.34,\n",
    "                       80006.23,\n",
    "                       77927.35,\n",
    "                       75657.16,\n",
    "                       73186.31,\n",
    "                       70507.19,\n",
    "                       67614.6,\n",
    "                       64506.5,\n",
    "                       61184.88,\n",
    "                       57656.68,\n",
    "                       53934.73,\n",
    "                       50038.65,\n",
    "                       45995.64,\n",
    "                       41841.05,\n",
    "                       37618.56,\n",
    "                       33379.88,\n",
    "                       29183.78,\n",
    "                       25094.33,\n",
    "                       21178.3,\n",
    "                       17501.76,\n",
    "                       14125.89,\n",
    "                       11102.53,\n",
    "                       8469.73,\n",
    "                       6248.17,\n",
    "                       0)\n",
    "\n",
    "l_ultime <- generate_hashmap(age_ultime, lx_ultime_par_age)"
   ]
  },
  {
   "cell_type": "code",
   "execution_count": 40,
   "id": "61fc8d6a",
   "metadata": {},
   "outputs": [],
   "source": [
    "# Calcul des probabilité de survie mensuelles\n",
    "m <- 12\n",
    "\n",
    "interpolated_lives_60 <- project_interpolated_lives(l_ultime(60), interpolate_death(l_ultime, 60:101, m))\n",
    "interpolated_lives_65 <- project_interpolated_lives(l_ultime(65), interpolate_death(l_ultime, 65:101, m))\n",
    "\n",
    "t_mois_p60 <- interpolated_lives_60 / l_ultime(60)\n",
    "t_mois_p65 <- interpolated_lives_65 / l_ultime(65)"
   ]
  },
  {
   "cell_type": "markdown",
   "id": "e5e28c55",
   "metadata": {},
   "source": [
    "###### Calcul de la rente de (60)"
   ]
  },
  {
   "cell_type": "code",
   "execution_count": null,
   "id": "b0109057",
   "metadata": {},
   "outputs": [],
   "source": [
    "t_60 <- seq(0,length(t_mois_p60)-1)\n",
    "v_60 <- (1+i)^(-t_60/12)\n",
    "rente_60 <- sum(v_60*t_mois_p60)/12"
   ]
  },
  {
   "cell_type": "markdown",
   "id": "d876c776",
   "metadata": {},
   "source": [
    "###### Calcul de la rente de (65)"
   ]
  },
  {
   "cell_type": "code",
   "execution_count": 59,
   "id": "fa0750df",
   "metadata": {},
   "outputs": [],
   "source": [
    "t_65 <- seq(0,length(t_mois_p65)-1)\n",
    "v_65 <- (1+i)^(-t_65/12)\n",
    "rente_65 <- sum(v_65*t_mois_p65)/12"
   ]
  },
  {
   "cell_type": "markdown",
   "id": "4927f44e",
   "metadata": {},
   "source": [
    "###### Calcul de la rente vie conjointe"
   ]
  },
  {
   "cell_type": "code",
   "execution_count": 68,
   "id": "9e8bb8e2",
   "metadata": {},
   "outputs": [],
   "source": [
    "t_mois_p60_tronque <- head(t_mois_p60, length(t_mois_p65)) # comme le reste de t_mois_p65 sont des 0 par la suite!\n",
    "t_p_vc <- t_mois_p60_tronque * t_mois_p65\n",
    "t_vc <- seq(0,length(t_mois_p65)-1)\n",
    "v_vc <- (1+i)^(-t_65/12)\n",
    "rente_vc <- sum(v_vc * t_p_vc)/12"
   ]
  },
  {
   "cell_type": "markdown",
   "id": "47b17951",
   "metadata": {},
   "source": [
    "##### Calcul de la valeur des prestatations à l'émission"
   ]
  },
  {
   "cell_type": "code",
   "execution_count": 73,
   "id": "2cf5bfd4",
   "metadata": {},
   "outputs": [],
   "source": [
    "valeur_prestations = 30000*rente_65 + 30000*rente_60 - 10000*rente_vc\n",
    "\n",
    "valeur_produit_3_4 = valeur_prestations * (1+i)^-10 * tp55[10] * tp55[10]"
   ]
  },
  {
   "cell_type": "markdown",
   "id": "be8e493a",
   "metadata": {},
   "source": [
    "#### Calcule de la prime\n",
    "\n",
    "$$ \\begin{align}\n",
    "P \\; \\mathrm{produit}_1 &= \\mathrm{produit}_2 + \\mathrm{produit}_{3,4} \\\\\n",
    "P &= \\frac{\\mathrm{produit}_2 + \\mathrm{produit}_{3,4}}{\\mathrm{produit}_1}\\\\\n",
    "\\end{align}\n",
    "$$"
   ]
  },
  {
   "cell_type": "code",
   "execution_count": 46,
   "id": "932e85cd",
   "metadata": {},
   "outputs": [
    {
     "data": {
      "text/html": [
       "4468.34"
      ],
      "text/latex": [
       "4468.34"
      ],
      "text/markdown": [
       "4468.34"
      ],
      "text/plain": [
       "[1] 4468.34"
      ]
     },
     "metadata": {},
     "output_type": "display_data"
    }
   ],
   "source": [
    "prime = round((valeur_produit_2+valeur_produit_3_4)/valeur_produit_1/12, 2)\n",
    "prime"
   ]
  }
 ],
 "metadata": {
  "kernelspec": {
   "display_name": "R",
   "language": "R",
   "name": "ir"
  },
  "language_info": {
   "codemirror_mode": "r",
   "file_extension": ".r",
   "mimetype": "text/x-r-source",
   "name": "R",
   "pygments_lexer": "r",
   "version": "3.6.3"
  }
 },
 "nbformat": 4,
 "nbformat_minor": 5
}
