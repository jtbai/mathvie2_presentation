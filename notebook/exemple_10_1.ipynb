{
 "cells": [
  {
   "cell_type": "markdown",
   "id": "2e5f4a3a",
   "metadata": {},
   "source": [
    "# Exemple 10.1 \n",
    "## Calcul de la valeur d'une rente sur deux têtes"
   ]
  },
  {
   "cell_type": "markdown",
   "id": "a2e5b545",
   "metadata": {},
   "source": [
    "### Préambule"
   ]
  },
  {
   "cell_type": "code",
   "execution_count": 1,
   "id": "9cc75b9d",
   "metadata": {},
   "outputs": [],
   "source": [
    "# Fonction pour créer un lien entre un age (clé) et une lx (valeur)\n",
    "\n",
    "generate_hashmap <- function(keys, values){\n",
    "    hashmap <- function(index){\n",
    "        key_index <- match(index, keys)\n",
    "        return (values[key_index])\n",
    "    }\n",
    "    return (Vectorize(hashmap))\n",
    "}"
   ]
  },
  {
   "cell_type": "code",
   "execution_count": 2,
   "id": "ec17a4b2",
   "metadata": {},
   "outputs": [],
   "source": [
    "# Données tirées de l'exemple 10.1 AMLCR Chapitre 10\n",
    "\n",
    "age_homme <- c(65, 66, 67, 68, 69)\n",
    "lx_homme_par_age <- c(43302, 42854, 42081, 41351, 40050)\n",
    "\n",
    "age_femme <- c(60, 61, 62, 63, 64)\n",
    "lx_femme_par_age <- c(47260, 47070, 46755, 46500, 46227)\n",
    "\n",
    "lx_homme <- generate_hashmap(age_homme, lx_homme_par_age)\n",
    "lx_femme <- generate_hashmap(age_femme, lx_femme_par_age)"
   ]
  },
  {
   "cell_type": "markdown",
   "id": "e99d0c42",
   "metadata": {},
   "source": [
    "### Question a\n",
    "Calculer la probabilité qu'un couple composé d'un **(x) homme de 66 ans** et d'une **(y) femme de 60 ans** restent tous les deux en vie **pendant 3 ans**\n",
    "\n",
    "i.e. $$\\,_3p_{66:60}$$\n"
   ]
  },
  {
   "cell_type": "code",
   "execution_count": 12,
   "id": "ad24f33f",
   "metadata": {},
   "outputs": [
    {
     "name": "stdout",
     "output_type": "stream",
     "text": [
      "probabilité = 0.9195"
     ]
    }
   ],
   "source": [
    "x <- 66\n",
    "y <- 60\n",
    "t <- 3\n",
    "\n",
    "probabilite_survie_x <- lx_homme(x+t)/lx_homme(x)\n",
    "probabilite_survie_y <- lx_femme(y+t)/lx_femme(y)\n",
    "\n",
    "probabilite_survie_vc <- probabilite_survie_x * probabilite_survie_y # selon l'hypothèse d'indépendance\n",
    "cat(\"probabilité =\",round(probabilite_survie_vc, 4))"
   ]
  },
  {
   "cell_type": "markdown",
   "id": "0195944f",
   "metadata": {},
   "source": [
    "### Question b\n",
    "b) Calculer la probabilité qu'au moins un des membre du couple composé d'un **(x) homme de 65 ans** et d'une **(y) femme de 62 ans** restent tous les deux en vie **pendant 2 ans**\n",
    "\n",
    "i.e. $$ \\,_2p_{65:62} $$\n"
   ]
  },
  {
   "cell_type": "code",
   "execution_count": 3,
   "id": "5e71063b",
   "metadata": {},
   "outputs": [
    {
     "name": "stdout",
     "output_type": "stream",
     "text": [
      "probabilité = 0.9997"
     ]
    }
   ],
   "source": [
    "x <- 65\n",
    "y <- 62\n",
    "t <- 2\n",
    "\n",
    "probabilite_survie_x <- lx_homme(x+t)/lx_homme(x)\n",
    "probabilite_survie_y <- lx_femme(y+t)/lx_femme(y)\n",
    "\n",
    "probabilite_survie_vc <- probabilite_survie_x * probabilite_survie_y # selon l'hypothèse d'indépendance\n",
    "probabilite_survie_ds <- probabilite_survie_x + probabilite_survie_y - probabilite_survie_vc\n",
    "\n",
    "cat(\"probabilité =\",round(probabilite_survie_ds, 4))"
   ]
  },
  {
   "cell_type": "markdown",
   "id": "a6a7e95c",
   "metadata": {},
   "source": [
    "### Question c \n",
    "Calculer la probabilité $p$ que le **mari agé de 65 ans meurt** dans les **deux premières années** alors que sa **femme, 61 ans, suvivive**."
   ]
  },
  {
   "cell_type": "markdown",
   "id": "40ca0f68",
   "metadata": {},
   "source": [
    "Par independance,\n",
    "$$ \\begin{align} \n",
    "p &= \\,_2q_{65} \\; \\,_2p_{61}\\\\\n",
    "  &= (1- \\,_2p_{65}) \\,_2p_{61} \n",
    "   \\end{align} \n",
    "  $$"
   ]
  },
  {
   "cell_type": "code",
   "execution_count": 4,
   "id": "cecc1ea8",
   "metadata": {},
   "outputs": [
    {
     "name": "stdout",
     "output_type": "stream",
     "text": [
      "probabilité = 0.0279"
     ]
    }
   ],
   "source": [
    "x <- 65\n",
    "y <- 61\n",
    "t <- 2\n",
    "\n",
    "probabilite_survie_x <- lx_homme(x+t)/lx_homme(x)\n",
    "probabilite_survie_y <- lx_femme(y+t)/lx_femme(y)\n",
    "\n",
    "probabilite_qc <- (1-probabilite_survie_x) * probabilite_survie_y\n",
    "\n",
    "cat(\"probabilité =\",round(probabilite_qc, 4))"
   ]
  },
  {
   "cell_type": "markdown",
   "id": "618021f6",
   "metadata": {},
   "source": [
    "### Question f\n",
    "Calculer pour un couple composé d'un **(x) homme de 65 ans** et d'une **(y) femme de 60 ans** à un **taux d'intérêt 5% par année** la valeur\n",
    "\n",
    "  1) d'une **rente immediate** sur deux têtes **payable pendant au plus 5 ans** ou **jusqu'au premier décès**   \n",
    "  2) d'une **rente immediate** sur deux têtes **payable pendant au plus 5 ans** ou **jusqu'au décès du dernier assuré**  \n",
    "  \n"
   ]
  },
  {
   "cell_type": "code",
   "execution_count": null,
   "id": "e5362533",
   "metadata": {},
   "outputs": [],
   "source": [
    "# Variable du problème\n",
    "\n",
    "x <- 65\n",
    "y <- 60\n",
    "i <- 0.05\n",
    "n <- 5\n",
    "t <- c(0,1,2,3,4)"
   ]
  },
  {
   "cell_type": "code",
   "execution_count": null,
   "id": "4c2fcc23",
   "metadata": {},
   "outputs": [],
   "source": [
    "# Facteur d'actualisation (constant pour les deux scénarios)\n",
    "\n",
    "facteurs_actualisation <- (1+i)^-t\n",
    "facteurs_actualisation"
   ]
  },
  {
   "cell_type": "code",
   "execution_count": null,
   "id": "3285bee9",
   "metadata": {},
   "outputs": [],
   "source": [
    "# Calcul des probabilité individuelles\n",
    "\n",
    "probabilite_survie_x <- lx_homme(x+t)/lx_homme(x)\n",
    "probabilite_survie_y <- lx_femme(y+t)/lx_femme(y)"
   ]
  },
  {
   "cell_type": "markdown",
   "id": "d195d249",
   "metadata": {},
   "source": [
    "#### Sous question f.1 \n",
    "Rente immediate payable jusqu'au premier décès\n",
    " $$ =  \\sum^{4}_{t=0} v^t  \\,_tp_{65:60} $$"
   ]
  },
  {
   "cell_type": "code",
   "execution_count": null,
   "id": "efe92e46",
   "metadata": {},
   "outputs": [],
   "source": [
    "# Calcul des probabilité de vie conjointe (sous l'hypothèse #1 d'indépendance)\n",
    "\n",
    "probabilite_survie_vc <- probabilite_survie_x * probabilite_survie_y\n",
    "probabilite_survie_vc"
   ]
  },
  {
   "cell_type": "code",
   "execution_count": null,
   "id": "5aaa5b36",
   "metadata": {},
   "outputs": [],
   "source": [
    "# Calcul de la valeur de la rente\n",
    "\n",
    "valeur_rente_vc <- sum(facteurs_actualisation * probabilite_survie_vc)\n",
    "cat(\"Valeur rente:\",round(valeur_rente_vc, 4))"
   ]
  },
  {
   "cell_type": "markdown",
   "id": "d0d5360d",
   "metadata": {},
   "source": [
    "#### Sous question f.2\n",
    "Rente immediate payable jusqu'au dernier décès = $$ \\sum^{4}_{t=0} v^t  \\,_tp_{\\overline{65:60}} $$"
   ]
  },
  {
   "cell_type": "code",
   "execution_count": null,
   "id": "ed935857",
   "metadata": {},
   "outputs": [],
   "source": [
    "# Calcul des probabilité de dernier survivant (sous l'hypothèse #1 d'indépendance)\n",
    "\n",
    "probabilite_survie_ds <- probabilite_survie_x + probabilite_survie_y - probabilite_survie_x*probabilite_survie_y\n",
    "probabilite_survie_ds"
   ]
  },
  {
   "cell_type": "code",
   "execution_count": null,
   "id": "284f81fa",
   "metadata": {},
   "outputs": [],
   "source": [
    "# Calcul de la valeur de la rente\n",
    "\n",
    "valeur_rente_ds <- sum(facteurs_actualisation * probabilite_survie_ds)\n",
    "cat(\"Valeur rente:\",round(valeur_rente_ds, 4))"
   ]
  }
 ],
 "metadata": {
  "kernelspec": {
   "display_name": "R",
   "language": "R",
   "name": "ir"
  },
  "language_info": {
   "codemirror_mode": "r",
   "file_extension": ".r",
   "mimetype": "text/x-r-source",
   "name": "R",
   "pygments_lexer": "r",
   "version": "3.6.3"
  }
 },
 "nbformat": 4,
 "nbformat_minor": 5
}
