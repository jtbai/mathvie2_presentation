{
 "cells": [
  {
   "cell_type": "markdown",
   "id": "2e5f4a3a",
   "metadata": {},
   "source": [
    "# Exemple 10.1 \n",
    "## Calcul de la valeur d'une rente sur deux têtes"
   ]
  },
  {
   "cell_type": "markdown",
   "id": "a2e5b545",
   "metadata": {},
   "source": [
    "### Préambule"
   ]
  },
  {
   "cell_type": "code",
   "execution_count": null,
   "id": "9cc75b9d",
   "metadata": {},
   "outputs": [],
   "source": [
    "# Fonction pour créer un lien entre un age (clé) et une lx (valeur)\n",
    "\n",
    "generate_hashmap <- function(keys, values){\n",
    "    hashmap <- function(index){\n",
    "        key_index <- match(index, keys)\n",
    "        return (values[key_index])\n",
    "    }\n",
    "    return (Vectorize(hashmap))\n",
    "}"
   ]
  },
  {
   "cell_type": "code",
   "execution_count": null,
   "id": "ec17a4b2",
   "metadata": {},
   "outputs": [],
   "source": [
    "# Données tirées de l'exemple 10.1 AMLCR Chapitre 10\n",
    "\n",
    "age_homme <- c(65, 66, 67, 68, 69)\n",
    "lx_homme_par_age <- c(43302, 42854, 42081, 41351, 40050)\n",
    "\n",
    "age_femme <- c(60, 61, 62, 63, 64)\n",
    "lx_femme_par_age <- c(47260, 47070, 46755, 46500, 46227)\n",
    "\n",
    "lx_homme <- generate_hashmap(age_homme, lx_homme_par_age)\n",
    "lx_femme <- generate_hashmap(age_femme, lx_femme_par_age)"
   ]
  },
  {
   "cell_type": "markdown",
   "id": "e99d0c42",
   "metadata": {},
   "source": [
    "### Question a\n",
    "Calculer la probabilité qu'un couple composé d'un **(x) homme de 66 ans** et d'une **(y) femme de 60 ans** restent tous les deux en vie **pendant 3 ans**\n",
    "\n",
    "i.e. $$\\,_3p_{66:60}$$\n"
   ]
  },
  {
   "cell_type": "code",
   "execution_count": null,
   "id": "ad24f33f",
   "metadata": {},
   "outputs": [],
   "source": [
    "tpx <- lx_homme(69)/lx_homme(66)\n",
    "tpy <- lx_femme(63)/lx_femme(60)\n",
    "\n",
    "tp_vc <- tpx * tpy # selon l'hypothèse d'indépendance\n",
    "cat(\"probabilité =\",round(tp_vc, 4))"
   ]
  },
  {
   "cell_type": "markdown",
   "id": "0195944f",
   "metadata": {},
   "source": [
    "### Question b\n",
    "b) Calculer la probabilité qu'au moins un des membre du couple composé d'un **(x) homme de 65 ans** et d'une **(y) femme de 62 ans** restent tous les deux en vie **pendant 2 ans**\n",
    "\n",
    "i.e. $$ \\,_2p_{\\overline{65:62}} $$\n"
   ]
  },
  {
   "cell_type": "code",
   "execution_count": null,
   "id": "5e71063b",
   "metadata": {},
   "outputs": [],
   "source": [
    "tpx <- lx_homme(67)/lx_homme(65)\n",
    "tpy <- lx_femme(64)/lx_femme(62)\n",
    "\n",
    "tp_vc <- tpx * tpy # selon l'hypothèse d'indépendance\n",
    "tp_ds <- tpx + tpy - tp_vc\n",
    "\n",
    "cat(\"probabilité =\",round(tp_ds, 4))"
   ]
  },
  {
   "cell_type": "markdown",
   "id": "a6a7e95c",
   "metadata": {},
   "source": [
    "### Question c \n",
    "Calculer la probabilité $p$ que le **mari agé de 65 ans meurt** dans les **deux premières années** alors que sa **femme, 61 ans, suvivive**."
   ]
  },
  {
   "cell_type": "markdown",
   "id": "40ca0f68",
   "metadata": {},
   "source": [
    "Par independance,\n",
    "$$ \\begin{align} \n",
    "p &= \\,_2q_{65}^h \\; \\,_2p_{61}^f\\\\\n",
    "  &= (1- \\,_2p_{65}^h) \\,_2p_{61}^f \n",
    "   \\end{align} \n",
    "  $$"
   ]
  },
  {
   "cell_type": "code",
   "execution_count": null,
   "id": "cecc1ea8",
   "metadata": {},
   "outputs": [],
   "source": [
    "tpx <- lx_homme(67)/lx_homme(65)\n",
    "tpy <- lx_femme(63)/lx_femme(61)\n",
    "\n",
    "p <- (1-tpx) * tpy\n",
    "\n",
    "cat(\"probabilité =\",round(p, 4))"
   ]
  },
  {
   "cell_type": "markdown",
   "id": "618021f6",
   "metadata": {},
   "source": [
    "### Question f\n",
    "Calculer pour un couple composé d'un **(x) homme de 65 ans** et d'une **(y) femme de 60 ans** à un **taux d'intérêt 5% par année** la valeur\n",
    "\n",
    "  1) d'une **rente immediate** sur deux têtes **payable pendant au plus 5 ans** ou **jusqu'au premier décès**   \n",
    "  2) d'une **rente immediate** sur deux têtes **payable pendant au plus 5 ans** ou **jusqu'au décès du dernier assuré**  \n",
    "  \n"
   ]
  },
  {
   "cell_type": "code",
   "execution_count": null,
   "id": "e5362533",
   "metadata": {},
   "outputs": [],
   "source": [
    "# Variable du problème\n",
    "\n",
    "x <- 65\n",
    "y <- 60\n",
    "i <- 0.05\n",
    "n <- 5\n",
    "t <- c(0,1,2,3,4)"
   ]
  },
  {
   "cell_type": "code",
   "execution_count": null,
   "id": "4c2fcc23",
   "metadata": {},
   "outputs": [],
   "source": [
    "# Facteur d'actualisation (constant pour les deux scénarios)\n",
    "\n",
    "v <- (1+i)^-t"
   ]
  },
  {
   "cell_type": "code",
   "execution_count": null,
   "id": "3285bee9",
   "metadata": {},
   "outputs": [],
   "source": [
    "# Calcul des probabilité individuelles\n",
    "\n",
    "tpx <- lx_homme(x+t)/lx_homme(x)\n",
    "tpy <- lx_femme(y+t)/lx_femme(y)"
   ]
  },
  {
   "cell_type": "markdown",
   "id": "d195d249",
   "metadata": {},
   "source": [
    "#### Sous question f.1 \n",
    "Rente immediate payable jusqu'au premier décès\n",
    " $$ =  \\sum^{4}_{t=0} v^t  \\,_tp_{65:60} $$"
   ]
  },
  {
   "cell_type": "code",
   "execution_count": null,
   "id": "efe92e46",
   "metadata": {},
   "outputs": [],
   "source": [
    "# Calcul des probabilité de vie conjointe (sous l'hypothèse #1 d'indépendance)\n",
    "\n",
    "tp_vc <- tpx * tpy\n"
   ]
  },
  {
   "cell_type": "code",
   "execution_count": null,
   "id": "5aaa5b36",
   "metadata": {},
   "outputs": [],
   "source": [
    "# Calcul de la valeur de la rente\n",
    "\n",
    "a_vc <- sum(v * tp_vc)\n",
    "cat(\"Valeur rente:\",round(a_vc, 4))"
   ]
  },
  {
   "cell_type": "markdown",
   "id": "d0d5360d",
   "metadata": {},
   "source": [
    "#### Sous question f.2\n",
    "Rente immediate payable jusqu'au dernier décès = $$ \\sum^{4}_{t=0} v^t  \\,_tp_{\\overline{65:60}} $$"
   ]
  },
  {
   "cell_type": "code",
   "execution_count": null,
   "id": "ed935857",
   "metadata": {},
   "outputs": [],
   "source": [
    "# Calcul des probabilité de dernier survivant (sous l'hypothèse #1 d'indépendance)\n",
    "\n",
    "tp_ds <- tpx + tpy - tpx*tpy"
   ]
  },
  {
   "cell_type": "code",
   "execution_count": null,
   "id": "284f81fa",
   "metadata": {},
   "outputs": [],
   "source": [
    "# Calcul de la valeur de la rente\n",
    "\n",
    "a_ds <- sum(v * tp_ds)\n",
    "cat(\"Valeur rente:\",round(a_ds, 4))"
   ]
  }
 ],
 "metadata": {
  "kernelspec": {
   "display_name": "R",
   "language": "R",
   "name": "ir"
  },
  "language_info": {
   "codemirror_mode": "r",
   "file_extension": ".r",
   "mimetype": "text/x-r-source",
   "name": "R",
   "pygments_lexer": "r",
   "version": "3.6.3"
  }
 },
 "nbformat": 4,
 "nbformat_minor": 5
}
