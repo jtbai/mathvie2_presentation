{
 "cells": [
  {
   "cell_type": "code",
   "execution_count": 13,
   "id": "9cc75b9d",
   "metadata": {},
   "outputs": [
    {
     "data": {
      "text/html": [
       "5"
      ],
      "text/latex": [
       "5"
      ],
      "text/markdown": [
       "5"
      ],
      "text/plain": [
       "[1] 5"
      ]
     },
     "metadata": {},
     "output_type": "display_data"
    }
   ],
   "source": [
    "auto_hashmap = function(a, b){\n",
    "    bla = function(y){\n",
    "        return (b[a[y]])\n",
    "    }\n",
    "    return (bla)\n",
    "}\n",
    "a = auto_hashmap(c(1,2,3),c(4,5,6))"
   ]
  }
 ],
 "metadata": {
  "kernelspec": {
   "display_name": "R",
   "language": "R",
   "name": "ir"
  },
  "language_info": {
   "codemirror_mode": "r",
   "file_extension": ".r",
   "mimetype": "text/x-r-source",
   "name": "R",
   "pygments_lexer": "r",
   "version": "3.6.3"
  }
 },
 "nbformat": 4,
 "nbformat_minor": 5
}
